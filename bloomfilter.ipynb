{
  "cells": [
    {
      "cell_type": "code",
      "execution_count": 1,
      "metadata": {
        "colab": {
          "base_uri": "https://localhost:8080/"
        },
        "id": "66cBb_cmbGu8",
        "outputId": "5078c7e4-9214-448c-c410-d9e8985f8abf"
      },
      "outputs": [
        {
          "output_type": "stream",
          "name": "stdout",
          "text": [
            "\u001b[2K     \u001b[90m━━━━━━━━━━━━━━━━━━━━━━━━━━━━━━━━━━━━━━━━\u001b[0m \u001b[32m317.3/317.3 MB\u001b[0m \u001b[31m2.8 MB/s\u001b[0m eta \u001b[36m0:00:00\u001b[0m\n",
            "\u001b[?25h  Preparing metadata (setup.py) ... \u001b[?25l\u001b[?25hdone\n",
            "\u001b[2K   \u001b[90m━━━━━━━━━━━━━━━━━━━━━━━━━━━━━━━━━━━━━━━━\u001b[0m \u001b[32m288.4/288.4 kB\u001b[0m \u001b[31m13.1 MB/s\u001b[0m eta \u001b[36m0:00:00\u001b[0m\n",
            "\u001b[?25h  Building wheel for pyspark (setup.py) ... \u001b[?25l\u001b[?25hdone\n"
          ]
        }
      ],
      "source": [
        "!pip install -q pyspark bitarray kaggle"
      ]
    },
    {
      "cell_type": "code",
      "execution_count": 2,
      "metadata": {
        "colab": {
          "base_uri": "https://localhost:8080/"
        },
        "collapsed": true,
        "id": "pGyANSJfbpeW",
        "outputId": "658f890a-316c-4cbf-b2e1-6de82d8e9b5b"
      },
      "outputs": [
        {
          "output_type": "stream",
          "name": "stdout",
          "text": [
            "Dataset URL: https://www.kaggle.com/datasets/vishesh1412/celebrity-face-image-dataset\n",
            "License(s): CC0-1.0\n",
            "Downloading celebrity-face-image-dataset.zip to /content\n",
            " 78% 41.0M/52.9M [00:00<00:00, 116MB/s] \n",
            "100% 52.9M/52.9M [00:00<00:00, 109MB/s]\n"
          ]
        }
      ],
      "source": [
        "!kaggle datasets download vishesh1412/celebrity-face-image-dataset"
      ]
    },
    {
      "cell_type": "code",
      "execution_count": 3,
      "metadata": {
        "id": "tByjOHRrxE7c"
      },
      "outputs": [],
      "source": [
        "!unzip -q celebrity-face-image-dataset.zip"
      ]
    },
    {
      "cell_type": "code",
      "execution_count": 4,
      "metadata": {
        "id": "Gxrw3eHFbMoU"
      },
      "outputs": [],
      "source": [
        "import math\n",
        "import hashlib\n",
        "from bitarray import bitarray\n",
        "\n",
        "class BloomFilter:\n",
        "\n",
        "    def __init__(self, n_items, fp_prob):\n",
        "        '''\n",
        "        n_items : int\n",
        "            Number of items expected to be stored in bloom filter\n",
        "        fp_prob : float\n",
        "            False Positive probability in decimal\n",
        "        '''\n",
        "        # False possible probability in decimal\n",
        "        self.fp_prob = fp_prob\n",
        "        # Size of bit array to use\n",
        "        self.size = self.get_size(n_items,fp_prob)\n",
        "\n",
        "        # number of hash functions to use\n",
        "        self.hash_count = self.get_hash_count(self.size,n_items)\n",
        "\n",
        "        print(f\"Using {self.hash_count} hash functions\")\n",
        "\n",
        "        # Bit array of given size\n",
        "        self.bit_array = bitarray(self.size)\n",
        "\n",
        "        # initialize all bits as 0\n",
        "        self.bit_array.setall(0)\n",
        "\n",
        "    def add(self, item):\n",
        "        '''\n",
        "        Add an item in the filter\n",
        "        '''\n",
        "        with open(item, \"rb\") as f:\n",
        "            content = f.read()\n",
        "        for i in range(self.hash_count):\n",
        "            string = str(content) + str(i)\n",
        "            digest = hashlib.md5(string.encode())\n",
        "            # perform double hashing\n",
        "            result = int(digest.hexdigest(), 16)\n",
        "            bit = result % self.size\n",
        "            self.bit_array[bit] = True\n",
        "\n",
        "    def check(self, item):\n",
        "        with open(item, \"rb\") as f:\n",
        "            content = f.read()\n",
        "        for i in range(self.hash_count):\n",
        "            string = str(content) + str(i)\n",
        "            digest = hashlib.md5(string.encode())\n",
        "            result = int(digest.hexdigest(), 16)\n",
        "            bit = result % self.size\n",
        "            if self.bit_array[bit] == False:\n",
        "                return False\n",
        "        return True\n",
        "\n",
        "    @classmethod\n",
        "    def get_size(self,n,p):\n",
        "        # Return the size of bit array(m) to be used\n",
        "\n",
        "        m = -(n * math.log(p))/(math.log(2)**2)\n",
        "        return int(m)\n",
        "\n",
        "    @classmethod\n",
        "    def get_hash_count(self, m, n):\n",
        "        '''\n",
        "        Return the hash function(k) to be used\n",
        "        '''\n",
        "        k = (m/n) * math.log(2)\n",
        "        return int(k)"
      ]
    },
    {
      "cell_type": "code",
      "execution_count": 5,
      "metadata": {
        "id": "rx5FtIKEyAkD"
      },
      "outputs": [],
      "source": [
        "from random import shuffle, seed\n",
        "from glob import glob\n",
        "from sklearn.model_selection import train_test_split"
      ]
    },
    {
      "cell_type": "code",
      "execution_count": 6,
      "metadata": {
        "id": "HADCx2cTx6A1"
      },
      "outputs": [],
      "source": [
        "all_images = sorted(glob(\"Celebrity Faces Dataset/Brad Pitt/*\"))"
      ]
    },
    {
      "cell_type": "code",
      "execution_count": 7,
      "metadata": {
        "id": "u4V3Af2myOb9"
      },
      "outputs": [],
      "source": [
        "seen_images, unseen_images = train_test_split(all_images, test_size=0.2, random_state=42)"
      ]
    },
    {
      "cell_type": "code",
      "execution_count": 8,
      "metadata": {
        "colab": {
          "base_uri": "https://localhost:8080/"
        },
        "id": "GB5w7AZLyMuZ",
        "outputId": "aef8ae61-7ccd-4ff7-8a6f-dd888e1b998b"
      },
      "outputs": [
        {
          "output_type": "execute_result",
          "data": {
            "text/plain": [
              "(80, 20)"
            ]
          },
          "metadata": {},
          "execution_count": 8
        }
      ],
      "source": [
        "len(seen_images), len(unseen_images)"
      ]
    },
    {
      "cell_type": "code",
      "execution_count": 9,
      "metadata": {
        "colab": {
          "base_uri": "https://localhost:8080/"
        },
        "id": "9zDLg0EZblMZ",
        "outputId": "7ad2910e-4005-488b-bca0-1f8d31b5e40d"
      },
      "outputs": [
        {
          "output_type": "stream",
          "name": "stdout",
          "text": [
            "Using 4 hash functions\n",
            "Size of bit array: 498\n",
            "False positive Probability: 0.05\n",
            "Number of hash functions: 4\n",
            "No. of test images: 30\n",
            "'Celebrity Faces Dataset/Brad Pitt/091_8561b34e.jpg' is definitely not present!\n",
            "'Celebrity Faces Dataset/Brad Pitt/072_da45cf8f.jpg' is probably present!\n",
            "'Celebrity Faces Dataset/Brad Pitt/005_02ab3a1b.jpg' is definitely not present!\n",
            "'Celebrity Faces Dataset/Brad Pitt/046_8bf34269.jpg' is definitely not present!\n",
            "'Celebrity Faces Dataset/Brad Pitt/019_ddcd5687.jpg' is definitely not present!\n",
            "'Celebrity Faces Dataset/Brad Pitt/087_155f1f74.jpg' is probably present!\n",
            "'Celebrity Faces Dataset/Brad Pitt/021_143b276f.jpg' is probably present!\n",
            "'Celebrity Faces Dataset/Brad Pitt/071_2d51687a.jpg' is definitely not present!\n",
            "'Celebrity Faces Dataset/Brad Pitt/078_b546dff5.jpg' is definitely not present!\n",
            "'Celebrity Faces Dataset/Brad Pitt/001_c04300ef.jpg' is definitely not present!\n",
            "'Celebrity Faces Dataset/Brad Pitt/084_4876da64.jpg' is definitely not present!\n",
            "'Celebrity Faces Dataset/Brad Pitt/081_4d677d83.jpg' is definitely not present!\n",
            "'Celebrity Faces Dataset/Brad Pitt/054_9f01aefa.jpg' is definitely not present!\n",
            "'Celebrity Faces Dataset/Brad Pitt/034_984e63b3.jpg' is definitely not present!\n",
            "'Celebrity Faces Dataset/Brad Pitt/013_0c83ca91.jpg' is definitely not present!\n",
            "'Celebrity Faces Dataset/Brad Pitt/074_6f4720aa.jpg' is definitely not present!\n",
            "'Celebrity Faces Dataset/Brad Pitt/052_b80b0a3f.jpg' is probably present!\n",
            "'Celebrity Faces Dataset/Brad Pitt/083_d6f1d5ac.jpg' is probably present!\n",
            "'Celebrity Faces Dataset/Brad Pitt/023_98d91529.jpg' is definitely not present!\n",
            "'Celebrity Faces Dataset/Brad Pitt/045_6895fe7e.jpg' is definitely not present!\n",
            "'Celebrity Faces Dataset/Brad Pitt/011_270cd3ea.jpg' is definitely not present!\n",
            "'Celebrity Faces Dataset/Brad Pitt/015_82889ec9.jpg' is probably present!\n",
            "'Celebrity Faces Dataset/Brad Pitt/031_8fc10a75.jpg' is definitely not present!\n",
            "'Celebrity Faces Dataset/Brad Pitt/077_ddf0abd8.jpg' is definitely not present!\n",
            "'Celebrity Faces Dataset/Brad Pitt/075_a7a83d60.jpg' is probably present!\n",
            "'Celebrity Faces Dataset/Brad Pitt/032_fd37a8e2.jpg' is definitely not present!\n",
            "'Celebrity Faces Dataset/Brad Pitt/093_c4d318cd.jpg' is probably present!\n",
            "'Celebrity Faces Dataset/Brad Pitt/061_38d21dc0.jpg' is probably present!\n",
            "'Celebrity Faces Dataset/Brad Pitt/092_22d9de5d.jpg' is probably present!\n",
            "'Celebrity Faces Dataset/Brad Pitt/040_9b4bfe5b.jpg' is definitely not present!\n"
          ]
        }
      ],
      "source": [
        "# seed(42)\n",
        "n = len(seen_images)  # no of items to add\n",
        "p = 0.05  # false positive probability\n",
        "\n",
        "bloomf = BloomFilter(n,p)\n",
        "print(\"Size of bit array: {}\".format(bloomf.size))\n",
        "print(\"False positive Probability: {}\".format(bloomf.fp_prob))\n",
        "print(\"Number of hash functions: {}\".format(bloomf.hash_count))\n",
        "\n",
        "for item in seen_images:\n",
        "    # print(bloomf.bit_array)\n",
        "    bloomf.add(item)\n",
        "\n",
        "test_images = seen_images[-10:] + unseen_images\n",
        "print(\"No. of test images:\", len(test_images))\n",
        "shuffle(test_images)\n",
        "\n",
        "for img in test_images:\n",
        "    if bloomf.check(img):\n",
        "        if img in unseen_images:\n",
        "            print(\"'{}' is a false positive!\".format(img))\n",
        "        else:\n",
        "            print(\"'{}' is probably present!\".format(img))\n",
        "    else:\n",
        "        print(\"'{}' is definitely not present!\".format(img))"
      ]
    },
    {
      "cell_type": "code",
      "execution_count": null,
      "metadata": {
        "id": "mUoM6i_V-zCt"
      },
      "outputs": [],
      "source": []
    },
    {
      "cell_type": "code",
      "execution_count": null,
      "metadata": {
        "id": "XrUmBsgYnW3y"
      },
      "outputs": [],
      "source": []
    },
    {
      "cell_type": "code",
      "execution_count": null,
      "metadata": {
        "id": "n2kgt7CNnWwX"
      },
      "outputs": [],
      "source": []
    },
    {
      "cell_type": "code",
      "execution_count": null,
      "metadata": {
        "id": "mZDHO1yXnW7D"
      },
      "outputs": [],
      "source": []
    },
    {
      "cell_type": "code",
      "execution_count": null,
      "metadata": {
        "id": "jUaCc7MlnW-A"
      },
      "outputs": [],
      "source": []
    }
  ],
  "metadata": {
    "colab": {
      "provenance": []
    },
    "kernelspec": {
      "display_name": "Python 3",
      "name": "python3"
    },
    "language_info": {
      "name": "python"
    }
  },
  "nbformat": 4,
  "nbformat_minor": 0
}